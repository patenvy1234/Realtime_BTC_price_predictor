{
  "nbformat": 4,
  "nbformat_minor": 0,
  "metadata": {
    "colab": {
      "provenance": []
    },
    "kernelspec": {
      "name": "python3",
      "display_name": "Python 3"
    },
    "language_info": {
      "name": "python"
    }
  },
  "cells": [
    {
      "cell_type": "code",
      "source": [
        "import numpy as np\n",
        "import pandas as pd\n",
        "import tensorflow as tf\n",
        "import matplotlib.pyplot as plt\n",
        "from sklearn.preprocessing import MinMaxScaler\n",
        "\n",
        "import warnings\n",
        "warnings.filterwarnings(\"ignore\")"
      ],
      "metadata": {
        "id": "tTwyRtzubANr"
      },
      "execution_count": 64,
      "outputs": []
    },
    {
      "cell_type": "code",
      "source": [
        "# Load the data\n",
        "data = pd.read_csv(\"/content/curren.csv\")\n",
        "data = data.loc[::-1].reset_index(drop=True)\n",
        "data = data[['close']]"
      ],
      "metadata": {
        "id": "CvWfhyIobJkX"
      },
      "execution_count": 84,
      "outputs": []
    },
    {
      "cell_type": "code",
      "source": [
        "# Normalize the data\n",
        "scaler = MinMaxScaler(feature_range=(0, 1))\n",
        "data = scaler.fit_transform(data)\n",
        "\n",
        "# Split the data into training and test sets\n",
        "train_data = data[:int(len(data) * 0.8)]\n",
        "test_data = data[int(len(data) * 0.8):]"
      ],
      "metadata": {
        "id": "GDWeSw0whB49"
      },
      "execution_count": 85,
      "outputs": []
    },
    {
      "cell_type": "code",
      "source": [
        "# Define the lookback and batch size\n",
        "lookback = 20\n",
        "batch_size = 32"
      ],
      "metadata": {
        "id": "lJaAuaMtIgXM"
      },
      "execution_count": 95,
      "outputs": []
    },
    {
      "cell_type": "code",
      "source": [
        "# Create a generator function to generate batches of training data\n",
        "def generator(data, lookback, batch_size):\n",
        "    i = 0\n",
        "    while i + lookback < len(data):\n",
        "        x = np.array([data[i:i+lookback]])\n",
        "        y = np.array([data[i+lookback]])\n",
        "        i += 1\n",
        "        yield x, y\n",
        "\n",
        "# Create the RNN model\n",
        "model = tf.keras.Sequential()\n",
        "model.add(tf.keras.layers.GRU(30, input_shape=(lookback, 1), activation='tanh'))\n",
        "model.add(tf.keras.layers.Dropout(0.2))\n",
        "\n",
        "model.add(tf.keras.layers.Dense(5))\n",
        "\n",
        "# Compile the model\n",
        "model.compile(optimizer='adam', loss='mean_squared_error')\n",
        "\n",
        "# Train the model\n",
        "train_gen = generator(train_data, lookback, batch_size)\n",
        "model.fit(train_gen, epochs=20, steps_per_epoch=len(train_data) // batch_size)\n",
        "\n",
        "# Evaluate the model on the test data\n",
        "test_gen = generator(test_data, lookback, batch_size)\n",
        "mse = model.evaluate(test_gen, steps=len(test_data) // batch_size)\n",
        "\n",
        "# Make predictions on new data\n",
        "x = np.array([data[-lookback:]])\n",
        "prediction = model.predict(x)\n",
        "prediction = scaler.inverse_transform(prediction)\n",
        "print(\"Prediction:\", prediction)\n",
        "print(\"MSE:\", mse)"
      ],
      "metadata": {
        "colab": {
          "base_uri": "https://localhost:8080/"
        },
        "outputId": "40419f5e-87f1-4bc8-c7d4-60075e9bbd8b",
        "id": "zSqJzXDZIgXX"
      },
      "execution_count": 96,
      "outputs": [
        {
          "output_type": "stream",
          "name": "stdout",
          "text": [
            "Epoch 1/20\n",
            "140/140 [==============================] - 3s 9ms/step - loss: 0.0057\n",
            "Epoch 2/20\n",
            "140/140 [==============================] - 1s 9ms/step - loss: 0.0014\n",
            "Epoch 3/20\n",
            "140/140 [==============================] - 1s 8ms/step - loss: 0.0019\n",
            "Epoch 4/20\n",
            "140/140 [==============================] - 1s 8ms/step - loss: 0.0011\n",
            "Epoch 5/20\n",
            "140/140 [==============================] - 1s 9ms/step - loss: 5.7228e-04\n",
            "Epoch 6/20\n",
            "140/140 [==============================] - 1s 9ms/step - loss: 6.9538e-04\n",
            "Epoch 7/20\n",
            "140/140 [==============================] - 1s 8ms/step - loss: 2.7142e-04\n",
            "Epoch 8/20\n",
            "140/140 [==============================] - 1s 9ms/step - loss: 1.9735e-04\n",
            "Epoch 9/20\n",
            "140/140 [==============================] - 1s 9ms/step - loss: 4.6617e-04\n",
            "Epoch 10/20\n",
            "140/140 [==============================] - 1s 10ms/step - loss: 4.2275e-04\n",
            "Epoch 11/20\n",
            "140/140 [==============================] - 1s 9ms/step - loss: 2.6887e-04\n",
            "Epoch 12/20\n",
            "140/140 [==============================] - 1s 9ms/step - loss: 0.0056\n",
            "Epoch 13/20\n",
            "140/140 [==============================] - 1s 9ms/step - loss: 0.0052\n",
            "Epoch 14/20\n",
            "140/140 [==============================] - 1s 9ms/step - loss: 0.0074\n",
            "Epoch 15/20\n",
            "140/140 [==============================] - 1s 10ms/step - loss: 0.0047\n",
            "Epoch 16/20\n",
            "140/140 [==============================] - 1s 10ms/step - loss: 0.0040\n",
            "Epoch 17/20\n",
            "140/140 [==============================] - 1s 10ms/step - loss: 0.0028\n",
            "Epoch 18/20\n",
            "140/140 [==============================] - 1s 10ms/step - loss: 0.0029\n",
            "Epoch 19/20\n",
            "140/140 [==============================] - 1s 9ms/step - loss: 0.0026\n",
            "Epoch 20/20\n",
            "140/140 [==============================] - 1s 10ms/step - loss: 0.0023\n",
            "35/35 [==============================] - 0s 3ms/step - loss: 0.0287\n",
            "1/1 [==============================] - 0s 375ms/step\n",
            "Prediction: [[23637.322 23625.658 23625.783 23621.334 23631.727]]\n",
            "MSE: 0.0286931861191988\n"
          ]
        }
      ]
    },
    {
      "cell_type": "code",
      "source": [
        "model.save('5pred.h5')"
      ],
      "metadata": {
        "id": "O1AjgPb9KDJd"
      },
      "execution_count": 97,
      "outputs": []
    },
    {
      "cell_type": "code",
      "source": [
        "# Define the lookback and batch size\n",
        "lookback = 30\n",
        "batch_size = 32"
      ],
      "metadata": {
        "id": "6_n1BycCIgu2"
      },
      "execution_count": 98,
      "outputs": []
    },
    {
      "cell_type": "code",
      "source": [
        "# Create a generator function to generate batches of training data\n",
        "def generator(data, lookback, batch_size):\n",
        "    i = 0\n",
        "    while i + lookback < len(data):\n",
        "        x = np.array([data[i:i+lookback]])\n",
        "        y = np.array([data[i+lookback]])\n",
        "        i += 1\n",
        "        yield x, y\n",
        "\n",
        "# Create the RNN model\n",
        "model = tf.keras.Sequential()\n",
        "model.add(tf.keras.layers.GRU(40, input_shape=(lookback, 1), activation='tanh'))\n",
        "model.add(tf.keras.layers.Dropout(0.2))\n",
        "\n",
        "model.add(tf.keras.layers.Dense(10))\n",
        "\n",
        "# Compile the model\n",
        "model.compile(optimizer='adam', loss='mean_squared_error')\n",
        "\n",
        "# Train the model\n",
        "train_gen = generator(train_data, lookback, batch_size)\n",
        "model.fit(train_gen, epochs=25, steps_per_epoch=len(train_data) // batch_size)\n",
        "\n",
        "# Evaluate the model on the test data\n",
        "test_gen = generator(test_data, lookback, batch_size)\n",
        "mse = model.evaluate(test_gen, steps=len(test_data) // batch_size)\n",
        "\n",
        "# Make predictions on new data\n",
        "x = np.array([data[-lookback:]])\n",
        "prediction = model.predict(x)\n",
        "prediction = scaler.inverse_transform(prediction)\n",
        "print(\"Prediction:\", prediction)\n",
        "print(\"MSE:\", mse)"
      ],
      "metadata": {
        "colab": {
          "base_uri": "https://localhost:8080/"
        },
        "outputId": "7bed4669-32a8-4760-ab6b-5f3a2799d1fa",
        "id": "gIqBqRY6Igu3"
      },
      "execution_count": 99,
      "outputs": [
        {
          "output_type": "stream",
          "name": "stdout",
          "text": [
            "Epoch 1/25\n",
            "140/140 [==============================] - 4s 13ms/step - loss: 0.0075\n",
            "Epoch 2/25\n",
            "140/140 [==============================] - 2s 13ms/step - loss: 0.0015\n",
            "Epoch 3/25\n",
            "140/140 [==============================] - 2s 13ms/step - loss: 0.0023\n",
            "Epoch 4/25\n",
            "140/140 [==============================] - 2s 13ms/step - loss: 8.3925e-04\n",
            "Epoch 5/25\n",
            "140/140 [==============================] - 2s 12ms/step - loss: 7.3171e-04\n",
            "Epoch 6/25\n",
            "140/140 [==============================] - 2s 13ms/step - loss: 5.3314e-04\n",
            "Epoch 7/25\n",
            "140/140 [==============================] - 2s 13ms/step - loss: 3.1183e-04\n",
            "Epoch 8/25\n",
            "140/140 [==============================] - 2s 13ms/step - loss: 2.0604e-04\n",
            "Epoch 9/25\n",
            "140/140 [==============================] - 2s 13ms/step - loss: 4.2920e-04\n",
            "Epoch 10/25\n",
            "140/140 [==============================] - 2s 13ms/step - loss: 4.5510e-04\n",
            "Epoch 11/25\n",
            "140/140 [==============================] - 2s 13ms/step - loss: 4.1392e-04\n",
            "Epoch 12/25\n",
            "140/140 [==============================] - 2s 13ms/step - loss: 0.0061\n",
            "Epoch 13/25\n",
            "140/140 [==============================] - 2s 13ms/step - loss: 0.0047\n",
            "Epoch 14/25\n",
            "140/140 [==============================] - 2s 13ms/step - loss: 0.0055\n",
            "Epoch 15/25\n",
            "140/140 [==============================] - 2s 13ms/step - loss: 0.0042\n",
            "Epoch 16/25\n",
            "140/140 [==============================] - 2s 13ms/step - loss: 0.0034\n",
            "Epoch 17/25\n",
            "140/140 [==============================] - 2s 13ms/step - loss: 0.0023\n",
            "Epoch 18/25\n",
            "140/140 [==============================] - 2s 13ms/step - loss: 0.0024\n",
            "Epoch 19/25\n",
            "140/140 [==============================] - 2s 13ms/step - loss: 0.0021\n",
            "Epoch 20/25\n",
            "140/140 [==============================] - 2s 13ms/step - loss: 0.0019\n",
            "Epoch 21/25\n",
            "140/140 [==============================] - 2s 13ms/step - loss: 0.0030\n",
            "Epoch 22/25\n",
            "140/140 [==============================] - 2s 13ms/step - loss: 0.0026\n",
            "Epoch 23/25\n",
            "140/140 [==============================] - 2s 13ms/step - loss: 0.0015\n",
            "Epoch 24/25\n",
            "140/140 [==============================] - 2s 13ms/step - loss: 7.1820e-04\n",
            "Epoch 25/25\n",
            "140/140 [==============================] - 2s 13ms/step - loss: 6.2922e-04\n",
            "35/35 [==============================] - 0s 3ms/step - loss: 0.0062\n",
            "1/1 [==============================] - 0s 398ms/step\n",
            "Prediction: [[23497.22  23502.11  23499.967 23504.627 23498.484 23501.654 23502.346\n",
            "  23499.62  23502.254 23500.836]]\n",
            "MSE: 0.0062447646632790565\n"
          ]
        }
      ]
    },
    {
      "cell_type": "code",
      "source": [
        "model.save('10pred.h5')"
      ],
      "metadata": {
        "id": "Hje4ylb6LZlT"
      },
      "execution_count": 100,
      "outputs": []
    },
    {
      "cell_type": "code",
      "source": [
        "# Define the lookback and batch size\n",
        "lookback = 60\n",
        "batch_size = 32"
      ],
      "metadata": {
        "id": "RkhvNcyuIg_F"
      },
      "execution_count": 103,
      "outputs": []
    },
    {
      "cell_type": "code",
      "source": [
        "# Create a generator function to generate batches of training data\n",
        "def generator(data, lookback, batch_size):\n",
        "    i = 0\n",
        "    while i + lookback < len(data):\n",
        "        x = np.array([data[i:i+lookback]])\n",
        "        y = np.array([data[i+lookback]])\n",
        "        i += 1\n",
        "        yield x, y\n",
        "\n",
        "# Create the RNN model\n",
        "model = tf.keras.Sequential()\n",
        "model.add(tf.keras.layers.GRU(50, input_shape=(lookback, 1), activation='tanh'))\n",
        "model.add(tf.keras.layers.Dropout(0.2))\n",
        "\n",
        "model.add(tf.keras.layers.Dense(20))\n",
        "\n",
        "# Compile the model\n",
        "model.compile(optimizer='adam', loss='mean_squared_error')\n",
        "\n",
        "# Train the model\n",
        "train_gen = generator(train_data, lookback, batch_size)\n",
        "model.fit(train_gen, epochs=30, steps_per_epoch=len(train_data) // batch_size)\n",
        "\n",
        "# Evaluate the model on the test data\n",
        "test_gen = generator(test_data, lookback, batch_size)\n",
        "mse = model.evaluate(test_gen, steps=len(test_data) // batch_size)\n",
        "\n",
        "# Make predictions on new data\n",
        "x = np.array([data[-lookback:]])\n",
        "prediction = model.predict(x)\n",
        "prediction = scaler.inverse_transform(prediction)\n",
        "print(\"Prediction:\", prediction)\n",
        "print(\"MSE:\", mse)"
      ],
      "metadata": {
        "colab": {
          "base_uri": "https://localhost:8080/"
        },
        "outputId": "ff6a4c5d-6f63-4237-cdb9-736c347c527b",
        "id": "27jakC5oIg_G"
      },
      "execution_count": 106,
      "outputs": [
        {
          "output_type": "stream",
          "name": "stdout",
          "text": [
            "Epoch 1/30\n",
            "140/140 [==============================] - 5s 22ms/step - loss: 0.0091\n",
            "Epoch 2/30\n",
            "140/140 [==============================] - 3s 21ms/step - loss: 0.0012\n",
            "Epoch 3/30\n",
            "140/140 [==============================] - 3s 21ms/step - loss: 0.0023\n",
            "Epoch 4/30\n",
            "140/140 [==============================] - 3s 21ms/step - loss: 8.0080e-04\n",
            "Epoch 5/30\n",
            "140/140 [==============================] - 3s 21ms/step - loss: 7.2761e-04\n",
            "Epoch 6/30\n",
            "140/140 [==============================] - 3s 21ms/step - loss: 5.0056e-04\n",
            "Epoch 7/30\n",
            "140/140 [==============================] - 3s 22ms/step - loss: 2.5509e-04\n",
            "Epoch 8/30\n",
            "140/140 [==============================] - 3s 22ms/step - loss: 2.4909e-04\n",
            "Epoch 9/30\n",
            "140/140 [==============================] - 3s 21ms/step - loss: 4.7942e-04\n",
            "Epoch 10/30\n",
            "140/140 [==============================] - 3s 21ms/step - loss: 2.6775e-04\n",
            "Epoch 11/30\n",
            "140/140 [==============================] - 3s 22ms/step - loss: 9.0831e-04\n",
            "Epoch 12/30\n",
            "140/140 [==============================] - 3s 21ms/step - loss: 0.0054\n",
            "Epoch 13/30\n",
            "140/140 [==============================] - 3s 22ms/step - loss: 0.0039\n",
            "Epoch 14/30\n",
            "140/140 [==============================] - 3s 21ms/step - loss: 0.0056\n",
            "Epoch 15/30\n",
            "140/140 [==============================] - 3s 22ms/step - loss: 0.0037\n",
            "Epoch 16/30\n",
            "140/140 [==============================] - 3s 21ms/step - loss: 0.0030\n",
            "Epoch 17/30\n",
            "140/140 [==============================] - 3s 21ms/step - loss: 0.0024\n",
            "Epoch 18/30\n",
            "140/140 [==============================] - 3s 21ms/step - loss: 0.0021\n",
            "Epoch 19/30\n",
            "140/140 [==============================] - 4s 30ms/step - loss: 0.0019\n",
            "Epoch 20/30\n",
            "140/140 [==============================] - 3s 22ms/step - loss: 0.0022\n",
            "Epoch 21/30\n",
            "140/140 [==============================] - 3s 21ms/step - loss: 0.0028\n",
            "Epoch 22/30\n",
            "140/140 [==============================] - 3s 21ms/step - loss: 0.0015\n",
            "Epoch 23/30\n",
            "140/140 [==============================] - 3s 21ms/step - loss: 0.0012\n",
            "Epoch 24/30\n",
            "140/140 [==============================] - 3s 22ms/step - loss: 5.2402e-04\n",
            "Epoch 25/30\n",
            "140/140 [==============================] - 3s 22ms/step - loss: 5.1684e-04\n",
            "Epoch 26/30\n",
            "140/140 [==============================] - 3s 21ms/step - loss: 4.8961e-04\n",
            "Epoch 27/30\n",
            "140/140 [==============================] - 3s 22ms/step - loss: 3.9922e-04\n",
            "Epoch 28/30\n",
            "140/140 [==============================] - 3s 21ms/step - loss: 2.2157e-04\n",
            "Epoch 29/30\n",
            "140/140 [==============================] - 3s 21ms/step - loss: 5.5591e-04\n",
            "Epoch 30/30\n",
            "140/140 [==============================] - 3s 21ms/step - loss: 0.0014\n",
            "35/35 [==============================] - 1s 4ms/step - loss: 0.0154\n",
            "1/1 [==============================] - 0s 338ms/step\n",
            "Prediction: [[23566.947 23574.979 23564.87  23565.238 23570.865 23572.92  23569.96\n",
            "  23574.88  23572.293 23568.994 23578.84  23572.477 23569.744 23578.25\n",
            "  23565.797 23568.969 23565.96  23578.508 23572.23  23575.98 ]]\n",
            "MSE: 0.015388020314276218\n"
          ]
        }
      ]
    },
    {
      "cell_type": "code",
      "source": [
        "model.save('20pred.h5')"
      ],
      "metadata": {
        "id": "meCpYYK-NbRS"
      },
      "execution_count": 107,
      "outputs": []
    },
    {
      "cell_type": "code",
      "source": [],
      "metadata": {
        "id": "hEjzeINKTM94"
      },
      "execution_count": null,
      "outputs": []
    }
  ]
}